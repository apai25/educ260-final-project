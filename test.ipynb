{
 "cells": [
  {
   "cell_type": "code",
   "execution_count": 3,
   "id": "8f1b1cf7",
   "metadata": {},
   "outputs": [
    {
     "name": "stdout",
     "output_type": "stream",
     "text": [
      "{'control_number': 'ccc000392714', 'title': 'WE: Issues-Fashion Design', 'description': '<span style=\"font-face:ArialMT;font-size:x-small;\"><span style=\"font-face:ArialMT;font-size:x-small;\"><p align=\"LEFT\">This course is a seminar related to work experience. Included is discussion of work experience objectives, career goals,</p><p align=\"LEFT\">employment search, communication skills and problem solving. Creation of resumes and cover letters will be covered and</p><p>completed.</p></span></span>', 'embedding': tensor([-0.0049, -0.0239, -0.0014,  ..., -0.0030, -0.0011, -0.0335])}\n"
     ]
    }
   ],
   "source": [
    "from configs.config import Config\n",
    "from src.datasets.course_dataset import CourseDataset\n",
    "\n",
    "cfg = Config()\n",
    "dataset = CourseDataset(cfg.data)\n",
    "\n",
    "print(dataset[10])"
   ]
  },
  {
   "cell_type": "code",
   "execution_count": 5,
   "id": "1a9decf9",
   "metadata": {},
   "outputs": [
    {
     "data": {
      "text/plain": [
       "132214"
      ]
     },
     "execution_count": 5,
     "metadata": {},
     "output_type": "execute_result"
    }
   ],
   "source": [
    "len(dataset)"
   ]
  }
 ],
 "metadata": {
  "kernelspec": {
   "display_name": "venv",
   "language": "python",
   "name": "python3"
  },
  "language_info": {
   "codemirror_mode": {
    "name": "ipython",
    "version": 3
   },
   "file_extension": ".py",
   "mimetype": "text/x-python",
   "name": "python",
   "nbconvert_exporter": "python",
   "pygments_lexer": "ipython3",
   "version": "3.10.12"
  }
 },
 "nbformat": 4,
 "nbformat_minor": 5
}
