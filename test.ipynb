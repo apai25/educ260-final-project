{
 "cells": [
  {
   "cell_type": "code",
   "execution_count": 1,
   "id": "8f1b1cf7",
   "metadata": {},
   "outputs": [
    {
     "name": "stdout",
     "output_type": "stream",
     "text": [
      "{'control_number': 'ccc000383620', 'title': 'ESL AND CIVICS V', 'description': 'This competency-based, open-entry citizenship course introduces U.S. history and government with the appropriate English vocabulary and grammar structure for high intermediate ESL (English as a Second Language) students who are preparing to take the U. S. Citizenship examination.', 'embedding': tensor([ 0.0126,  0.0148, -0.0038,  ..., -0.0318, -0.0020, -0.0248])}\n"
     ]
    }
   ],
   "source": [
    "from src.datasets.course_dataset import CourseDataset\n",
    "from configs.config import Config\n",
    "\n",
    "cfg = Config()\n",
    "dataset = CourseDataset(cfg.data)\n",
    "\n",
    "print(dataset[10])"
   ]
  }
 ],
 "metadata": {
  "kernelspec": {
   "display_name": "venv",
   "language": "python",
   "name": "python3"
  },
  "language_info": {
   "codemirror_mode": {
    "name": "ipython",
    "version": 3
   },
   "file_extension": ".py",
   "mimetype": "text/x-python",
   "name": "python",
   "nbconvert_exporter": "python",
   "pygments_lexer": "ipython3",
   "version": "3.10.12"
  }
 },
 "nbformat": 4,
 "nbformat_minor": 5
}
