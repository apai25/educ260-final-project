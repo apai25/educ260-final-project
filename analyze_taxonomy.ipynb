{
 "cells": [
  {
   "cell_type": "code",
   "execution_count": 10,
   "id": "6bcb435a",
   "metadata": {},
   "outputs": [],
   "source": [
    "from configs.config import Config \n",
    "from src.datasets.course_dataset import CourseDataset\n",
    "import json \n",
    "import torch\n",
    "import torch.nn.functional as F\n",
    "\n"
   ]
  },
  {
   "cell_type": "code",
   "execution_count": null,
   "id": "797a9a93",
   "metadata": {},
   "outputs": [],
   "source": [
    "cfg = Config()\n",
    "ds = CourseDataset(cfg=cfg.data)"
   ]
  },
  {
   "cell_type": "code",
   "execution_count": 9,
   "id": "84115e32",
   "metadata": {},
   "outputs": [
    {
     "name": "stdout",
     "output_type": "stream",
     "text": [
      "132214\n"
     ]
    }
   ],
   "source": [
    "ccn_to_emb = {}\n",
    "for i in range(len(ds)):\n",
    "    sample = ds[i]\n",
    "    ccn = sample[\"control_number\"]\n",
    "    emb = sample[\"embedding\"]\n",
    "    ccn_to_emb[ccn] = emb\n",
    "print(len(ccn_to_emb))"
   ]
  },
  {
   "cell_type": "code",
   "execution_count": null,
   "id": "147ab2e3",
   "metadata": {},
   "outputs": [],
   "source": [
    "\n",
    "def cosine_sim_matrix(x, y):\n",
    "    x = F.normalize(x, dim=1)\n",
    "    y = F.normalize(y, dim=1)\n",
    "    return x @ y.T\n",
    "\n",
    "def intra_cluster_similarity(embs: torch.Tensor) -> float:\n",
    "    if len(embs) < 2:\n",
    "        return 1.0\n",
    "    sim = cosine_sim_matrix(embs, embs)\n",
    "    mask = ~torch.eye(len(embs), dtype=torch.bool, device=embs.device)\n",
    "    return sim[mask].mean().item()\n",
    "\n",
    "def inter_cluster_similarity(cluster_embs: list[torch.Tensor]) -> float:\n",
    "    sims = []\n",
    "    for i in range(len(cluster_embs)):\n",
    "        for j in range(i+1, len(cluster_embs)):\n",
    "            sim = cosine_sim_matrix(cluster_embs[i], cluster_embs[j])\n",
    "            sims.append(sim.mean().item())\n",
    "    return sum(sims) / len(sims) if sims else 0.0\n"
   ]
  },
  {
   "cell_type": "code",
   "execution_count": 15,
   "id": "caa3f7da",
   "metadata": {},
   "outputs": [],
   "source": [
    "def collect_level_clusters(node, level, clusters_by_level):\n",
    "    if len(clusters_by_level) <= level:\n",
    "        clusters_by_level.append([])\n",
    "\n",
    "    clusters_by_level[level].append(node)\n",
    "    for child in node.get(\"children\", []):\n",
    "        collect_level_clusters(child, level + 1, clusters_by_level)\n",
    "\n",
    "def gather_courses(node):\n",
    "    \"\"\"Return a list of all course IDs under this node (including children).\"\"\"\n",
    "    if node.get(\"courses\"):\n",
    "        return node[\"courses\"]\n",
    "    courses = []\n",
    "    for child in node.get(\"children\", []):\n",
    "        courses.extend(gather_courses(child))\n",
    "    return courses\n",
    "\n",
    "def compute_similarity_metrics(taxonomy, ccn_to_emb):\n",
    "    clusters_by_level = []\n",
    "    collect_level_clusters(taxonomy, 0, clusters_by_level)\n",
    "\n",
    "    level_metrics = []\n",
    "    for level, nodes in enumerate(clusters_by_level):\n",
    "        cluster_embs = []\n",
    "        for node in nodes:\n",
    "            course = gather_courses(node)               # NEW → collect all descendant courses\n",
    "            embs = [torch.as_tensor(ccn_to_emb[c]).float()\n",
    "                    for c in course if c in ccn_to_emb]\n",
    "            if embs:\n",
    "                cluster_embs.append(torch.stack(embs))\n",
    "\n",
    "        # need ≥2 clusters at this level to compute inter‑similarity\n",
    "        if len(cluster_embs) < 2:\n",
    "            continue\n",
    "\n",
    "        intra_vals = [intra_cluster_similarity(e) for e in cluster_embs if len(e) > 1]\n",
    "        intra = sum(intra_vals) / len(intra_vals) if intra_vals else 0.0\n",
    "        inter = inter_cluster_similarity(cluster_embs)\n",
    "\n",
    "        level_metrics.append(\n",
    "            dict(level=level,\n",
    "                 intra_cluster_similarity=intra,\n",
    "                 inter_cluster_similarity=inter,\n",
    "                 num_clusters=len(cluster_embs))\n",
    "        )\n",
    "    return level_metrics\n"
   ]
  },
  {
   "cell_type": "code",
   "execution_count": 21,
   "id": "7fd14245",
   "metadata": {},
   "outputs": [
    {
     "name": "stdout",
     "output_type": "stream",
     "text": [
      "{'level': 1, 'intra_cluster_similarity': 0.8164014756679535, 'inter_cluster_similarity': 0.788631178273095, 'num_clusters': 10}\n",
      "{'level': 2, 'intra_cluster_similarity': 0.8390237980959366, 'inter_cluster_similarity': 0.7884384385420352, 'num_clusters': 50}\n",
      "{'level': 3, 'intra_cluster_similarity': 0.8583605510633696, 'inter_cluster_similarity': 0.7900004687584485, 'num_clusters': 230}\n"
     ]
    }
   ],
   "source": [
    "TAXONOMY_NAME = \"gpt-o4_1k\"\n",
    "taxonomy_json_path = cfg.taxonomy.save_dir / TAXONOMY_NAME / \"taxonomy.json\"\n",
    "with open(taxonomy_json_path, \"r\") as f:\n",
    "    taxonomy = json.load(f)\n",
    "\n",
    "metrics = compute_similarity_metrics(taxonomy, ccn_to_emb)\n",
    "for m in metrics:\n",
    "    print(m)\n"
   ]
  },
  {
   "cell_type": "code",
   "execution_count": 22,
   "id": "0a15db2a",
   "metadata": {},
   "outputs": [
    {
     "name": "stdout",
     "output_type": "stream",
     "text": [
      "{'level': 1, 'intra_cluster_similarity': 0.8122285544872284, 'inter_cluster_similarity': 0.7883186909887526, 'num_clusters': 10}\n",
      "{'level': 2, 'intra_cluster_similarity': 0.8333031705447606, 'inter_cluster_similarity': 0.7881935075128159, 'num_clusters': 49}\n",
      "{'level': 3, 'intra_cluster_similarity': 0.8520084263442399, 'inter_cluster_similarity': 0.7892967590925286, 'num_clusters': 228}\n"
     ]
    }
   ],
   "source": [
    "TAXONOMY_NAME = \"o1-mini_1k\"\n",
    "taxonomy_json_path = cfg.taxonomy.save_dir / TAXONOMY_NAME / \"taxonomy.json\"\n",
    "with open(taxonomy_json_path, \"r\") as f:\n",
    "    taxonomy = json.load(f)\n",
    "\n",
    "metrics = compute_similarity_metrics(taxonomy, ccn_to_emb)\n",
    "for m in metrics:\n",
    "    print(m)\n"
   ]
  },
  {
   "cell_type": "code",
   "execution_count": 23,
   "id": "c3821407",
   "metadata": {},
   "outputs": [
    {
     "name": "stdout",
     "output_type": "stream",
     "text": [
      "{'level': 1, 'intra_cluster_similarity': 0.8105119109153748, 'inter_cluster_similarity': 0.7897831930054559, 'num_clusters': 10}\n",
      "{'level': 2, 'intra_cluster_similarity': 0.8324166974242853, 'inter_cluster_similarity': 0.7899584523998961, 'num_clusters': 50}\n",
      "{'level': 3, 'intra_cluster_similarity': 0.8481085191170374, 'inter_cluster_similarity': 0.7899300019069991, 'num_clusters': 241}\n"
     ]
    }
   ],
   "source": [
    "TAXONOMY_NAME = \"o3-mini_1k\"\n",
    "taxonomy_json_path = cfg.taxonomy.save_dir / TAXONOMY_NAME / \"taxonomy.json\"\n",
    "with open(taxonomy_json_path, \"r\") as f:\n",
    "    taxonomy = json.load(f)\n",
    "\n",
    "metrics = compute_similarity_metrics(taxonomy, ccn_to_emb)\n",
    "for m in metrics:\n",
    "    print(m)\n"
   ]
  },
  {
   "cell_type": "code",
   "execution_count": 24,
   "id": "adcb2610",
   "metadata": {},
   "outputs": [
    {
     "name": "stdout",
     "output_type": "stream",
     "text": [
      "{'level': 1, 'intra_cluster_similarity': 0.8112664997577668, 'inter_cluster_similarity': 0.7873230788442823, 'num_clusters': 10}\n",
      "{'level': 2, 'intra_cluster_similarity': 0.8352768141396192, 'inter_cluster_similarity': 0.7878689366943982, 'num_clusters': 50}\n",
      "{'level': 3, 'intra_cluster_similarity': 0.8560936718844296, 'inter_cluster_similarity': 0.7898402758625234, 'num_clusters': 237}\n"
     ]
    }
   ],
   "source": [
    "TAXONOMY_NAME = \"o4-mini_1k\"\n",
    "taxonomy_json_path = cfg.taxonomy.save_dir / TAXONOMY_NAME / \"taxonomy.json\"\n",
    "with open(taxonomy_json_path, \"r\") as f:\n",
    "    taxonomy = json.load(f)\n",
    "\n",
    "metrics = compute_similarity_metrics(taxonomy, ccn_to_emb)\n",
    "for m in metrics:\n",
    "    print(m)\n"
   ]
  }
 ],
 "metadata": {
  "kernelspec": {
   "display_name": "venv",
   "language": "python",
   "name": "python3"
  },
  "language_info": {
   "codemirror_mode": {
    "name": "ipython",
    "version": 3
   },
   "file_extension": ".py",
   "mimetype": "text/x-python",
   "name": "python",
   "nbconvert_exporter": "python",
   "pygments_lexer": "ipython3",
   "version": "3.10.12"
  }
 },
 "nbformat": 4,
 "nbformat_minor": 5
}
