{
 "cells": [
  {
   "cell_type": "code",
   "execution_count": null,
   "id": "6bcb435a",
   "metadata": {},
   "outputs": [],
   "source": [
    "from configs.config import Config \n",
    "from src.datasets.course_dataset import CourseDataset\n"
   ]
  },
  {
   "cell_type": "code",
   "execution_count": null,
   "id": "797a9a93",
   "metadata": {},
   "outputs": [],
   "source": [
    "\n",
    "cfg = Config()\n",
    "ds = CourseDataset(cfg=cfg.data)\n",
    "print(ds)"
   ]
  },
  {
   "cell_type": "code",
   "execution_count": null,
   "id": "84115e32",
   "metadata": {},
   "outputs": [],
   "source": [
    "ccn_to_emb = {}\n",
    "for i in range(len(ds)):\n",
    "    sample = ds[i]\n",
    "    ccn = sample[\"control_number\"]\n",
    "    emb = sample[\"embeddings\"]\n",
    "    ccn_to_emb[ccn] = emb\n",
    "print(len(ccn_to_emb))"
   ]
  }
 ],
 "metadata": {
  "language_info": {
   "name": "python"
  }
 },
 "nbformat": 4,
 "nbformat_minor": 5
}
